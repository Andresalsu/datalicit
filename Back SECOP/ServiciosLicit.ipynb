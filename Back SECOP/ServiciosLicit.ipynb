{
 "cells": [
  {
   "cell_type": "code",
   "execution_count": null,
   "metadata": {},
   "outputs": [],
   "source": [
    "from flask_cors import CORS\n",
    "import os\n",
    "import datalicit as prime\n",
    "from flask import Flask, request, jsonify"
   ]
  },
  {
   "cell_type": "code",
   "execution_count": null,
   "metadata": {},
   "outputs": [],
   "source": [
    "app = Flask(__name__)\n",
    "CORS(app)\n",
    "\n",
    "@app.route('/')\n",
    "def hola():\n",
    "    return \"hola mundo\"\n",
    "\n",
    "# Recibe los parametros para el filtrado de las licitaciones  \n",
    "@app.route('/enviar', methods=['POST'])\n",
    "def enviar():\n",
    "    content= request.json\n",
    "    entidad = content['entidad']\n",
    "    ref_proc = content['ref_proc']\n",
    "    \n",
    "    return jsonify(prime.filterLicit(entidad,ref_proc))\n",
    "    \n",
    "if __name__ == '__main__':\n",
    "    app.run(threaded=True,host='0.0.0.0',debug=True,port=int(\"4500\"))"
   ]
  }
 ],
 "metadata": {
  "kernelspec": {
   "display_name": "Python 3",
   "language": "python",
   "name": "python3"
  },
  "language_info": {
   "codemirror_mode": {
    "name": "ipython",
    "version": 3
   },
   "file_extension": ".py",
   "mimetype": "text/x-python",
   "name": "python",
   "nbconvert_exporter": "python",
   "pygments_lexer": "ipython3",
   "version": "3.7.3"
  }
 },
 "nbformat": 4,
 "nbformat_minor": 2
}
